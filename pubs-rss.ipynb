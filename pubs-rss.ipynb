{
  "cells": [
    {
      "cell_type": "raw",
      "metadata": {},
      "source": [
        "---\n",
        "title: \"SET pubs\"\n",
        "---"
      ],
      "id": "009ef860"
    },
    {
      "cell_type": "markdown",
      "metadata": {},
      "source": [
        "```{rss}\n",
        "url: \"https://pubmed.ncbi.nlm.nih.gov/rss/search/1jk7VLRmJ7fN_PU1HzqGf-oafIzl7qXWpvJJNjs2g_y66cqMV-/?limit=5&utm_campaign=pubmed-2&fc=20240412123934\"\n",
        "```"
      ],
      "id": "171f7393"
    }
  ],
  "metadata": {
    "kernelspec": {
      "display_name": "Python 3",
      "language": "python",
      "name": "python3"
    }
  },
  "nbformat": 4,
  "nbformat_minor": 5
}